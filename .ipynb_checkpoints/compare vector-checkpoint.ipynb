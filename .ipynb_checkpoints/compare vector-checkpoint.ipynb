{
 "cells": [
  {
   "cell_type": "code",
   "execution_count": null,
   "id": "341f1968",
   "metadata": {},
   "outputs": [],
   "source": [
    "import numpy as np\n",
    "\n",
    "def compare_vectors(v1, v2):\n",
    "    dot_product = np.dot(v1, v2)\n",
    "    angle = np.arccos(dot_product) * 180 / np.pi  # converting to degrees for easier interpretation\n",
    "    cross_product_magnitude = np.linalg.norm(np.cross(v1, v2))\n",
    "\n",
    "    print(f\"Dot Product: {dot_product}\")\n",
    "    print(f\"Angle Between Vectors (Degrees): {angle}\")\n",
    "    print(f\"Cross Product Magnitude: {cross_product_magnitude}\")\n",
    "\n",
    "# Example vectors\n",
    "vector_a = np.array([1, 0, 0])  # example normalized vector\n",
    "vector_b = np.array([0, 1, 0])  # another example normalized vector\n",
    "\n",
    "compare_vectors(vector_a, vector_b)"
   ]
  }
 ],
 "metadata": {
  "kernelspec": {
   "display_name": "Python 3 (ipykernel)",
   "language": "python",
   "name": "python3"
  },
  "language_info": {
   "codemirror_mode": {
    "name": "ipython",
    "version": 3
   },
   "file_extension": ".py",
   "mimetype": "text/x-python",
   "name": "python",
   "nbconvert_exporter": "python",
   "pygments_lexer": "ipython3",
   "version": "3.11.5"
  }
 },
 "nbformat": 4,
 "nbformat_minor": 5
}
